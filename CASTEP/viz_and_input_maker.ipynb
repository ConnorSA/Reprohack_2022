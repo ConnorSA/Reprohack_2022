{
 "cells": [
  {
   "cell_type": "code",
   "execution_count": 23,
   "metadata": {},
   "outputs": [],
   "source": [
    "from ase.calculators.castep import Castep\n",
    "from ase.visualize import view\n",
    "import ase\n",
    "import os\n",
    "import numpy as np\n",
    "import warnings\n",
    "warnings.simplefilter('ignore')\n",
    "from glob import glob"
   ]
  },
  {
   "cell_type": "code",
   "execution_count": 20,
   "metadata": {},
   "outputs": [],
   "source": [
    "def get_MP_grid(atoms_in, kspacing: float = 0.01):\n",
    "    A = np.array(atoms_in.cell)\n",
    "    x= A[0,:] ; y= A[1,:] ;z= A[2,:]\n",
    "    V = atoms_in.get_volume()\n",
    "    ix = (np.pi/V) *np.cross(y, z)\n",
    "    iy = (np.pi/V) *np.cross(z, x)\n",
    "    iz = (np.pi/V) *np.cross(x, y)\n",
    "    mx, my, mz =int(np.round((1/3)*np.linalg.norm(ix)/kspacing) -1), \\\n",
    "            int(np.round((1/3)*np.linalg.norm(iy)/kspacing) -1), \\\n",
    "            int(np.round((1/3)*np.linalg.norm(iz)/kspacing)-1)\n",
    "    return [mx, my, mz]"
   ]
  },
  {
   "cell_type": "code",
   "execution_count": 29,
   "metadata": {},
   "outputs": [
    {
     "data": {
      "application/vnd.jupyter.widget-view+json": {
       "model_id": "94266f07931c4e249bf4b0fc8bc5d43f",
       "version_major": 2,
       "version_minor": 0
      },
      "text/plain": [
       "HBox(children=(NGLWidget(), VBox(children=(Dropdown(description='Show', options=('All', 'C', 'Be'), value='All…"
      ]
     },
     "metadata": {},
     "output_type": "display_data"
    }
   ],
   "source": [
    "files = ['BeC_tube+wire.xyz',  'Be_nanowire.xyz',  'C_nanotube.xyz']\n",
    "atoms = ase.io.read(f'../unopt_xyzs/{files[0]}')\n",
    "view(atoms*[1,1,1], viewer='nglview')"
   ]
  },
  {
   "cell_type": "code",
   "execution_count": 21,
   "metadata": {},
   "outputs": [],
   "source": [
    "param_string = \"TASK: SinglePoint \\n\" \\\n",
    "\"CUT_OFF_ENERGY: 1000 \\n\" \\\n",
    "\"DATA_DISTRIBUTION: kpoint \\n\" \\\n",
    "\"OPT_STRATEGY: speed \\n\" \\\n",
    "\"XC_FUNCTIONAL: PBE \\n\" \\\n",
    "\"GRID_SCALE: 2 \\n\" \\\n",
    "\"FINE_GRID_SCALE: 2.0 \\n\" \\\n",
    "\"FIX_OCCUPANCY: false \\n\" \\\n",
    "\"METALS_METHOD: dm \\n\" \\\n",
    "\"MIXING_SCHEME: pulay \\n\" \\\n",
    "\"NEXTRA_BANDS: 35 \\n\" \\\n",
    "\"SMEARING_WIDTH: 0.05 ev \\n\" \\\n",
    "\"SPIN_POLARISED: false \\n\" \\\n",
    "\"CALCULATE_STRESS : TRUE \\n\" \\\n",
    "\" \\n\" \\\n",
    "\"%BLOCK devel_code \\n\" \\\n",
    "\"PARALLEL: kpoint=64 : ENDPARALLEL \\n\" \\\n",
    "\"%ENDBLOCK devel_code \\n\"\n",
    "\n",
    "calculator= Castep()\n",
    "calculator.cell.kpoint_mp_grid =  '1 1 500'\n",
    "calculator.cell.fix_all_cell = 'true'"
   ]
  },
  {
   "cell_type": "code",
   "execution_count": 22,
   "metadata": {},
   "outputs": [],
   "source": [
    "\n",
    "atoms.set_calculator(calculator)\n",
    "ase.io.write('convergence_study/BeC_tube+wire.cell', atoms , format='castep-cell')\n",
    "f = open('convergence_study/BeC_tube+wire.param', \"w\")\n",
    "f.write(param_string)\n",
    "f.close()\n"
   ]
  },
  {
   "cell_type": "code",
   "execution_count": null,
   "metadata": {},
   "outputs": [],
   "source": []
  }
 ],
 "metadata": {
  "kernelspec": {
   "display_name": "Python 3",
   "language": "python",
   "name": "python3"
  },
  "language_info": {
   "codemirror_mode": {
    "name": "ipython",
    "version": 3
   },
   "file_extension": ".py",
   "mimetype": "text/x-python",
   "name": "python",
   "nbconvert_exporter": "python",
   "pygments_lexer": "ipython3",
   "version": "3.6.6"
  }
 },
 "nbformat": 4,
 "nbformat_minor": 2
}
