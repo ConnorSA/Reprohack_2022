{
 "cells": [
  {
   "cell_type": "code",
   "execution_count": 56,
   "metadata": {},
   "outputs": [],
   "source": [
    "import numpy as np\n",
    "import os\n",
    "from glob import glob\n",
    "import ase, ase.io\n",
    "import matplotlib.pyplot as plt"
   ]
  },
  {
   "cell_type": "code",
   "execution_count": 326,
   "metadata": {},
   "outputs": [],
   "source": [
    "class CastepBands:\n",
    "    def __init__(self, atoms_in, bands_file: str) :\n",
    "        self.bands_file_name = bands_file\n",
    "        self.whole_bands_file = !less $bands_file\n",
    "        self.number_of_atoms = len(atoms_in)\n",
    "        self.get_branches()\n",
    "    def get_branches(self):\n",
    "        loc=[] ; kpath=[] ; branch=[] ; ordering=[]\n",
    "        for i, val in enumerate(self.whole_bands_file):\n",
    "            if 'Spin' in val: loc.append(i)\n",
    "        for i, val in enumerate(loc):\n",
    "            kpath.append(self.whole_bands_file[val-1].split()[3:])\n",
    "            ordering.append(int(self.whole_bands_file[val-1].split()[1]))\n",
    "        for i, j in zip(loc[0:-1], loc[1:]):\n",
    "            branch.append(np.array(self.whole_bands_file[i+1:j-1], dtype=float))\n",
    "        branch.append(np.array(self.whole_bands_file[loc[-1]+1:], dtype=float))\n",
    "        branch=np.array(branch)\n",
    "        kpath=np.array(kpath)\n",
    "        branch_order = np.zeros(branch.shape)\n",
    "        kpath_order = np.zeros(kpath.shape)\n",
    "        for i, val in enumerate(ordering):\n",
    "            branch_order[val-1,:] = branch[i,:] #-1 to get indexing to start from 0\n",
    "            kpath_order[val-1,:] = kpath[i,:]\n",
    "        self.kpath = kpath_order ; self.branch = kpath_order"
   ]
  },
  {
   "cell_type": "code",
   "execution_count": 328,
   "metadata": {},
   "outputs": [],
   "source": [
    "atoms = ase.io.read('../unopt_xyzs/BeC_tube+wire.xyz')\n",
    "A = CastepBands(atoms,'BeC_tube+wire_0800ev.bands')"
   ]
  },
  {
   "cell_type": "code",
   "execution_count": 221,
   "metadata": {},
   "outputs": [
    {
     "data": {
      "text/plain": [
       "19681"
      ]
     },
     "execution_count": 221,
     "metadata": {},
     "output_type": "execute_result"
    }
   ],
   "source": [
    "loc[-1]"
   ]
  },
  {
   "cell_type": "code",
   "execution_count": null,
   "metadata": {},
   "outputs": [],
   "source": []
  }
 ],
 "metadata": {
  "kernelspec": {
   "display_name": "Python 3",
   "language": "python",
   "name": "python3"
  },
  "language_info": {
   "codemirror_mode": {
    "name": "ipython",
    "version": 3
   },
   "file_extension": ".py",
   "mimetype": "text/x-python",
   "name": "python",
   "nbconvert_exporter": "python",
   "pygments_lexer": "ipython3",
   "version": "3.6.6"
  }
 },
 "nbformat": 4,
 "nbformat_minor": 2
}
